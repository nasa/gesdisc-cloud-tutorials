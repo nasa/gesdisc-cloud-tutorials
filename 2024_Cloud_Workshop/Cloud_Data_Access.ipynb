{
 "cells": [
  {
   "cell_type": "markdown",
   "metadata": {},
   "source": [
    "### 1. Import Libraries"
   ]
  },
  {
   "cell_type": "code",
   "execution_count": null,
   "metadata": {},
   "outputs": [],
   "source": [
    "from cmr import VariableQuery\n",
    "import earthaccess\n",
    "import xarray"
   ]
  },
  {
   "cell_type": "markdown",
   "metadata": {},
   "source": [
    "### 2. Access Granules Directly from the S3 Bucket using `earthaccess`"
   ]
  },
  {
   "cell_type": "code",
   "execution_count": null,
   "metadata": {},
   "outputs": [],
   "source": [
    "# Search for the data\n",
    "\n",
    "results = earthaccess.search_data(\n",
    "    short_name = \"GPM_3IMERGHH\",\n",
    "    version = \"06\",\n",
    "    cloud_hosted = True,\n",
    "    # bounding_box = (-10,20,10,50),\n",
    "    temporal = (\"2020-02\", \"2020-03\"),\n",
    ")"
   ]
  },
  {
   "cell_type": "code",
   "execution_count": null,
   "metadata": {},
   "outputs": [],
   "source": [
    "# Stream files into a single Xarray dataset\n",
    "\n",
    "files = earthaccess.open(results)\n",
    "\n",
    "ds = xr.open_mfdataset(files)\n",
    "\n",
    "ds['precipitationCal']"
   ]
  },
  {
   "cell_type": "code",
   "execution_count": null,
   "metadata": {},
   "outputs": [],
   "source": [
    "# Download files directly from S3\n",
    "\n",
    "data_links = [granule.data_links(access=\"direct\") for granule in results]\n",
    "files = earthaccess.download(results, \"./local_folder\")"
   ]
  },
  {
   "cell_type": "code",
   "execution_count": null,
   "metadata": {},
   "outputs": [],
   "source": [
    "# Download files directly from on-premises HTTPS, or from the cloud, if available\n",
    "\n",
    "data_links = [granule.data_links(access=\"external\") for granule in results]\n",
    "files = earthaccess.download(results, \"./local_folder\")"
   ]
  },
  {
   "cell_type": "markdown",
   "metadata": {},
   "source": [
    "### 3. Access S3 Zarr Store Using `earthaccess`"
   ]
  },
  {
   "cell_type": "code",
   "execution_count": null,
   "metadata": {},
   "outputs": [],
   "source": [
    "# Search for the Zarr S3 Bucket Using `python-cmr`\n",
    "\n",
    "var = \"precipitationCal\"\n",
    "provider = \"GES_DISC\"\n",
    "\n",
    "zarr_store = [var for var in VariableQuery().provider(provider).get_all() if \"instance_information\" in var]\n",
    "zarr_store = zarr_store['instance_information']['url'][0]\n",
    "\n",
    "print(zarr_store)"
   ]
  },
  {
   "cell_type": "markdown",
   "metadata": {},
   "source": [
    "### Access Zarr Store using `xarray`"
   ]
  },
  {
   "cell_type": "markdown",
   "metadata": {},
   "source": []
  }
 ],
 "metadata": {
  "language_info": {
   "name": "python"
  }
 },
 "nbformat": 4,
 "nbformat_minor": 2
}
